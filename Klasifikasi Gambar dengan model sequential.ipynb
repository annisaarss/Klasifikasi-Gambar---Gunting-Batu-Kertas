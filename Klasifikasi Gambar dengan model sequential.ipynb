{
  "nbformat": 4,
  "nbformat_minor": 0,
  "metadata": {
    "colab": {
      "name": "BISMILLAH",
      "provenance": [],
      "collapsed_sections": []
    },
    "kernelspec": {
      "name": "python3",
      "display_name": "Python 3"
    },
    "language_info": {
      "name": "python"
    }
  },
  "cells": [
    {
      "cell_type": "markdown",
      "metadata": {
        "id": "VqoqOMUOUy5L"
      },
      "source": [
        "## Data Akun Dicoding"
      ]
    },
    {
      "cell_type": "markdown",
      "metadata": {
        "id": "ymDL_Z33U2Yb"
      },
      "source": [
        "Username : Annisa Rosdiyana\n",
        "\n",
        "Email : annisarosdiyana17@gmail.com"
      ]
    },
    {
      "cell_type": "code",
      "metadata": {
        "colab": {
          "base_uri": "https://localhost:8080/"
        },
        "id": "IuOwf1WnwZaH",
        "outputId": "983dd766-ecb2-4a44-d02f-1c3bf641e4a8"
      },
      "source": [
        "!wget --no-check-certificate \\\n",
        "  https://dicodingacademy.blob.core.windows.net/picodiploma/ml_pemula_academy/rockpaperscissors.zip \\\n",
        "  -O /tmp/gunting_batu_kertass.zip"
      ],
      "execution_count": null,
      "outputs": [
        {
          "output_type": "stream",
          "text": [
            "--2021-07-05 13:34:26--  https://dicodingacademy.blob.core.windows.net/picodiploma/ml_pemula_academy/rockpaperscissors.zip\n",
            "Resolving dicodingacademy.blob.core.windows.net (dicodingacademy.blob.core.windows.net)... 52.239.197.36\n",
            "Connecting to dicodingacademy.blob.core.windows.net (dicodingacademy.blob.core.windows.net)|52.239.197.36|:443... connected.\n",
            "HTTP request sent, awaiting response... 200 OK\n",
            "Length: 322873683 (308M) [application/zip]\n",
            "Saving to: ‘/tmp/gunting_batu_kertass.zip’\n",
            "\n",
            "/tmp/gunting_batu_k 100%[===================>] 307.92M  4.14MB/s    in 77s     \n",
            "\n",
            "2021-07-05 13:35:44 (4.00 MB/s) - ‘/tmp/gunting_batu_kertass.zip’ saved [322873683/322873683]\n",
            "\n"
          ],
          "name": "stdout"
        }
      ]
    },
    {
      "cell_type": "code",
      "metadata": {
        "colab": {
          "base_uri": "https://localhost:8080/"
        },
        "id": "8ZiNDrj_wWyc",
        "outputId": "4bdfe22c-5782-4371-afbd-1aa6add73d72"
      },
      "source": [
        "import os\n",
        "import random\n",
        "import pandas as pd\n",
        "import numpy as np\n",
        "from shutil import copyfile\n",
        "\n",
        "# melakukan ekstraksi pada file zip\n",
        "import zipfile,os\n",
        "local_zip = '/tmp/gunting_batu_kertass.zip'\n",
        "zip_ref = zipfile.ZipFile(local_zip, 'r')\n",
        "zip_ref.extractall('/tmp')\n",
        "zip_ref.close()\n",
        "\n",
        "data_dir='/tmp/rockpaperscissors/rps-cv-images'\n",
        "print(len(os.listdir(data_dir+'/rock/')))\n",
        "print(len(os.listdir(data_dir+'/paper/')))\n",
        "print(len(os.listdir(data_dir+'/scissors/')))"
      ],
      "execution_count": null,
      "outputs": [
        {
          "output_type": "stream",
          "text": [
            "726\n",
            "712\n",
            "750\n"
          ],
          "name": "stdout"
        }
      ]
    },
    {
      "cell_type": "code",
      "metadata": {
        "colab": {
          "base_uri": "https://localhost:8080/"
        },
        "id": "aJu7Rl_hyTu8",
        "outputId": "7d987e16-9b9c-49bb-8788-e98f60bb9313"
      },
      "source": [
        "print(os.listdir(data_dir))"
      ],
      "execution_count": null,
      "outputs": [
        {
          "output_type": "stream",
          "text": [
            "['paper', 'scissors', 'rock', 'README_rpc-cv-images.txt']\n"
          ],
          "name": "stdout"
        }
      ]
    },
    {
      "cell_type": "code",
      "metadata": {
        "id": "FCdNYFE9011M"
      },
      "source": [
        "classes=os.listdir(data_dir)"
      ],
      "execution_count": null,
      "outputs": []
    },
    {
      "cell_type": "code",
      "metadata": {
        "id": "DSJTqNy808uS"
      },
      "source": [
        "classes.remove('README_rpc-cv-images.txt')"
      ],
      "execution_count": null,
      "outputs": []
    },
    {
      "cell_type": "code",
      "metadata": {
        "colab": {
          "base_uri": "https://localhost:8080/"
        },
        "id": "U-DULyIP2SrY",
        "outputId": "7d1675ba-33a3-42a6-826d-db1509f5f867"
      },
      "source": [
        "classes"
      ],
      "execution_count": null,
      "outputs": [
        {
          "output_type": "execute_result",
          "data": {
            "text/plain": [
              "['paper', 'scissors', 'rock']"
            ]
          },
          "metadata": {
            "tags": []
          },
          "execution_count": 6
        }
      ]
    },
    {
      "cell_type": "code",
      "metadata": {
        "colab": {
          "base_uri": "https://localhost:8080/"
        },
        "id": "UBOPW8cX2VOY",
        "outputId": "e6e9fcea-0fe6-422f-e5e7-7b8b7a017812"
      },
      "source": [
        "source_path=[f'/tmp/rockpaperscissors/rps-cv-images/{a}' for a in classes]\n",
        "print(source_path)"
      ],
      "execution_count": null,
      "outputs": [
        {
          "output_type": "stream",
          "text": [
            "['/tmp/rockpaperscissors/rps-cv-images/paper', '/tmp/rockpaperscissors/rps-cv-images/scissors', '/tmp/rockpaperscissors/rps-cv-images/rock']\n"
          ],
          "name": "stdout"
        }
      ]
    },
    {
      "cell_type": "code",
      "metadata": {
        "colab": {
          "base_uri": "https://localhost:8080/"
        },
        "id": "ByWlgNUF2kLi",
        "outputId": "3471df6b-0bb9-4e8b-cfa3-d4ec0582992a"
      },
      "source": [
        "classes_dir=[f'{a}_dir' for a in classes]\n",
        "classes_dir"
      ],
      "execution_count": null,
      "outputs": [
        {
          "output_type": "execute_result",
          "data": {
            "text/plain": [
              "['paper_dir', 'scissors_dir', 'rock_dir']"
            ]
          },
          "metadata": {
            "tags": []
          },
          "execution_count": 8
        }
      ]
    },
    {
      "cell_type": "code",
      "metadata": {
        "colab": {
          "base_uri": "https://localhost:8080/"
        },
        "id": "fwQga8-32sTd",
        "outputId": "06ed8eb4-b358-4d9d-db01-54a231cb79a2"
      },
      "source": [
        "for cl_dir,cl_path in zip(classes_dir,source_path):\n",
        "    print(cl_dir,': ',len(os.listdir(cl_path)))"
      ],
      "execution_count": null,
      "outputs": [
        {
          "output_type": "stream",
          "text": [
            "paper_dir :  712\n",
            "scissors_dir :  750\n",
            "rock_dir :  726\n"
          ],
          "name": "stdout"
        }
      ]
    },
    {
      "cell_type": "code",
      "metadata": {
        "colab": {
          "base_uri": "https://localhost:8080/"
        },
        "id": "p0ptz8NJ2wpy",
        "outputId": "8b6cdc1d-0a26-45c0-a098-18c3fa624c8b"
      },
      "source": [
        "!pwd"
      ],
      "execution_count": null,
      "outputs": [
        {
          "output_type": "stream",
          "text": [
            "/content\n"
          ],
          "name": "stdout"
        }
      ]
    },
    {
      "cell_type": "code",
      "metadata": {
        "id": "f78gYEtw23Bj"
      },
      "source": [
        "try:\n",
        "    os.mkdir('/content/training')\n",
        "    os.mkdir('/content/validation')\n",
        "except OSError:\n",
        "    pass"
      ],
      "execution_count": null,
      "outputs": []
    },
    {
      "cell_type": "code",
      "metadata": {
        "colab": {
          "base_uri": "https://localhost:8080/"
        },
        "id": "DKG9pYwB3BS7",
        "outputId": "3f7373f3-b56d-4368-aa45-326f3b7ea53a"
      },
      "source": [
        "TRAINING_PATH='/content/training'\n",
        "VALIDATION_PATH='/content/validation'\n",
        "training_dir_path=[f'/content/training/{a}' for a in classes]\n",
        "print('\\n',training_dir_path)\n",
        "validation_dir_path=[f'/content/validation/{a}' for a in classes]\n",
        "print('\\n',validation_dir_path)"
      ],
      "execution_count": null,
      "outputs": [
        {
          "output_type": "stream",
          "text": [
            "\n",
            " ['/content/training/paper', '/content/training/scissors', '/content/training/rock']\n",
            "\n",
            " ['/content/validation/paper', '/content/validation/scissors', '/content/validation/rock']\n"
          ],
          "name": "stdout"
        }
      ]
    },
    {
      "cell_type": "code",
      "metadata": {
        "id": "WH1V8Ia832g9"
      },
      "source": [
        "for train_dir_path in training_dir_path:\n",
        "    try:\n",
        "        os.mkdir(train_dir_path)\n",
        "    except OSError:\n",
        "        pass"
      ],
      "execution_count": null,
      "outputs": []
    },
    {
      "cell_type": "code",
      "metadata": {
        "id": "U4f08ovr4Cyi"
      },
      "source": [
        "for val_dir_path in validation_dir_path:\n",
        "    try:\n",
        "        os.mkdir(val_dir_path)\n",
        "    except OSError:\n",
        "        pass"
      ],
      "execution_count": null,
      "outputs": []
    },
    {
      "cell_type": "code",
      "metadata": {
        "id": "Lh64PYj94NYO"
      },
      "source": [
        "def split_data(SOURCE, TRAINING, VALIDATION, SPLIT_SIZE):\n",
        "    files = []\n",
        "    print('Split Data')\n",
        "    for filename in os.listdir(SOURCE):\n",
        "        file = SOURCE +'/'+ filename\n",
        "        if os.path.getsize(file) > 0:\n",
        "            files.append(filename)\n",
        "        else:\n",
        "            print(filename + \" is zero length, so ignoring.\")\n",
        "\n",
        "    training_length = int( len(files)* SPLIT_SIZE)\n",
        "    validation_length = int(len(files) - training_length)\n",
        "    \n",
        "    print('SOURCE: ',SOURCE, '\\n TRAINING', TRAINING, '\\n VALIDATION',VALIDATION, '\\n ',len(files))\n",
        "    print('training_length:',training_length)\n",
        "    print('validation_length:',validation_length)\n",
        "    \n",
        "    shuffled_set = random.sample(files, len(files))\n",
        "    training_set = shuffled_set[0:training_length]\n",
        "    validation_set = shuffled_set[training_length:(training_length+validation_length)]\n",
        "\n",
        "    print(len(training_set))\n",
        "    print(len(validation_set))\n",
        "    \n",
        "    for filename in training_set:\n",
        "        this_file = SOURCE +'/'+ filename\n",
        "        destination = TRAINING +'/'+ filename\n",
        "        copyfile(this_file, destination)\n",
        "    \n",
        "\n",
        "    for filename in validation_set:\n",
        "        this_file = SOURCE +'/'+ filename\n",
        "        destination = VALIDATION+'/' + filename\n",
        "        copyfile(this_file, destination)"
      ],
      "execution_count": null,
      "outputs": []
    },
    {
      "cell_type": "code",
      "metadata": {
        "colab": {
          "base_uri": "https://localhost:8080/"
        },
        "id": "oaTrQk4p4Rce",
        "outputId": "f1fe7c7c-01e1-4a4e-fede-8039b34491c1"
      },
      "source": [
        "split_size = .6\n",
        "for source,train_dir_path,val_dir_path in zip(source_path,\\\n",
        "                                training_dir_path,validation_dir_path):\n",
        "    #print('source: ',source,'\\n', train_dir_path,'\\n',val_dir_path,'\\n')\n",
        "    split_data(source,train_dir_path,val_dir_path, split_size)\n",
        "    print('Splitting \\n')"
      ],
      "execution_count": null,
      "outputs": [
        {
          "output_type": "stream",
          "text": [
            "Split Data\n",
            "SOURCE:  /tmp/rockpaperscissors/rps-cv-images/paper \n",
            " TRAINING /content/training/paper \n",
            " VALIDATION /content/validation/paper \n",
            "  712\n",
            "training_length: 427\n",
            "validation_length: 285\n",
            "427\n",
            "285\n",
            "Splitting \n",
            "\n",
            "Split Data\n",
            "SOURCE:  /tmp/rockpaperscissors/rps-cv-images/scissors \n",
            " TRAINING /content/training/scissors \n",
            " VALIDATION /content/validation/scissors \n",
            "  750\n",
            "training_length: 450\n",
            "validation_length: 300\n",
            "450\n",
            "300\n",
            "Splitting \n",
            "\n",
            "Split Data\n",
            "SOURCE:  /tmp/rockpaperscissors/rps-cv-images/rock \n",
            " TRAINING /content/training/rock \n",
            " VALIDATION /content/validation/rock \n",
            "  726\n",
            "training_length: 435\n",
            "validation_length: 291\n",
            "435\n",
            "291\n",
            "Splitting \n",
            "\n"
          ],
          "name": "stdout"
        }
      ]
    },
    {
      "cell_type": "code",
      "metadata": {
        "id": "PV6_Fthv5Oi8"
      },
      "source": [
        "# membuat sebuah objek ImageDataGenerator\n",
        "from tensorflow.keras.preprocessing.image import ImageDataGenerator\n",
        " \n",
        "train_datagen = ImageDataGenerator(\n",
        "                    rescale=1./255,\n",
        "                    rotation_range=20,\n",
        "                    horizontal_flip=True,\n",
        "                    shear_range = 0.2,\n",
        "                    fill_mode='nearest')\n",
        " \n",
        "test_datagen = ImageDataGenerator(\n",
        "                    rescale=1./255,\n",
        "                    rotation_range=20,\n",
        "                    horizontal_flip=True,\n",
        "                    shear_range = 0.2,\n",
        "                    fill_mode='nearest')"
      ],
      "execution_count": null,
      "outputs": []
    },
    {
      "cell_type": "code",
      "metadata": {
        "colab": {
          "base_uri": "https://localhost:8080/"
        },
        "id": "TRnZt14K7-H3",
        "outputId": "53989b77-1e45-43e0-824a-9a0a9aad5f5e"
      },
      "source": [
        "# menggunakan objek image data generator sebelumnya untuk mempersiapkan data latih yang akan dipelajari oleh model\n",
        "train_generator = train_datagen.flow_from_directory(\n",
        "        '/content/training',  # direktori data\n",
        "        target_size=(150, 150),  # mengubah resolusi seluruh gambar menjadi 150x150 piksel\n",
        "        batch_size=4,\n",
        "        class_mode = 'sparse',\n",
        "        seed=42)\n",
        " \n",
        "validation_generator = test_datagen.flow_from_directory(\n",
        "        '/content/validation', # direktori data\n",
        "        target_size=(150, 150), # mengubah resolusi seluruh gambar menjadi 150x150 piksel\n",
        "        batch_size=4,\n",
        "        class_mode = 'sparse',\n",
        "        seed=42)"
      ],
      "execution_count": 39,
      "outputs": [
        {
          "output_type": "stream",
          "text": [
            "Found 1312 images belonging to 3 classes.\n",
            "Found 876 images belonging to 3 classes.\n"
          ],
          "name": "stdout"
        }
      ]
    },
    {
      "cell_type": "code",
      "metadata": {
        "id": "TlPLyR1a_DKL"
      },
      "source": [
        "import tensorflow as tf\n",
        "\n",
        "model = tf.keras.models.Sequential([\n",
        "    tf.keras.layers.Conv2D(32, (3,3), activation='relu', input_shape=(150, 150,3)),\n",
        "    tf.keras.layers.MaxPooling2D(2, 2),\n",
        "    tf.keras.layers.Conv2D(64, (3,3), activation='relu'),\n",
        "    tf.keras.layers.MaxPooling2D(2,2),\n",
        "    tf.keras.layers.Conv2D(128, (3,3), activation='relu'),\n",
        "    tf.keras.layers.MaxPooling2D(2,2),\n",
        "    tf.keras.layers.Conv2D(512, (3,3), activation='relu'),\n",
        "    tf.keras.layers.MaxPooling2D(2,2),\n",
        "    tf.keras.layers.Flatten(),\n",
        "    tf.keras.layers.Dense(512, activation='relu'),\n",
        "    tf.keras.layers.Dense(512, activation='relu'),\n",
        "    tf.keras.layers.Dense(3, activation='softmax')\n",
        "])"
      ],
      "execution_count": 40,
      "outputs": []
    },
    {
      "cell_type": "code",
      "metadata": {
        "id": "0pfK214m_JZi",
        "colab": {
          "base_uri": "https://localhost:8080/"
        },
        "outputId": "9f6d64a7-19d0-434b-e883-c9d8fcf5de5e"
      },
      "source": [
        "model.summary()"
      ],
      "execution_count": 41,
      "outputs": [
        {
          "output_type": "stream",
          "text": [
            "Model: \"sequential_1\"\n",
            "_________________________________________________________________\n",
            "Layer (type)                 Output Shape              Param #   \n",
            "=================================================================\n",
            "conv2d_4 (Conv2D)            (None, 148, 148, 32)      896       \n",
            "_________________________________________________________________\n",
            "max_pooling2d_4 (MaxPooling2 (None, 74, 74, 32)        0         \n",
            "_________________________________________________________________\n",
            "conv2d_5 (Conv2D)            (None, 72, 72, 64)        18496     \n",
            "_________________________________________________________________\n",
            "max_pooling2d_5 (MaxPooling2 (None, 36, 36, 64)        0         \n",
            "_________________________________________________________________\n",
            "conv2d_6 (Conv2D)            (None, 34, 34, 128)       73856     \n",
            "_________________________________________________________________\n",
            "max_pooling2d_6 (MaxPooling2 (None, 17, 17, 128)       0         \n",
            "_________________________________________________________________\n",
            "conv2d_7 (Conv2D)            (None, 15, 15, 512)       590336    \n",
            "_________________________________________________________________\n",
            "max_pooling2d_7 (MaxPooling2 (None, 7, 7, 512)         0         \n",
            "_________________________________________________________________\n",
            "flatten_1 (Flatten)          (None, 25088)             0         \n",
            "_________________________________________________________________\n",
            "dense_3 (Dense)              (None, 512)               12845568  \n",
            "_________________________________________________________________\n",
            "dense_4 (Dense)              (None, 512)               262656    \n",
            "_________________________________________________________________\n",
            "dense_5 (Dense)              (None, 3)                 1539      \n",
            "=================================================================\n",
            "Total params: 13,793,347\n",
            "Trainable params: 13,793,347\n",
            "Non-trainable params: 0\n",
            "_________________________________________________________________\n"
          ],
          "name": "stdout"
        }
      ]
    },
    {
      "cell_type": "code",
      "metadata": {
        "id": "8ZQVMH1WGOF4"
      },
      "source": [
        "# compile model dengan 'Adamax' optimizer loss function 'sparse_categorical_crossentropy' \n",
        "model.compile(loss= \"sparse_categorical_crossentropy\",\n",
        "              optimizer=tf.optimizers.Adamax(),\n",
        "              metrics=['accuracy'])"
      ],
      "execution_count": 42,
      "outputs": []
    },
    {
      "cell_type": "code",
      "metadata": {
        "colab": {
          "base_uri": "https://localhost:8080/"
        },
        "id": "d0H1RxTEGRpe",
        "outputId": "df4cb365-14d8-4c20-ca8f-cb61527dfb5b"
      },
      "source": [
        "# latih model dengan model.fit\n",
        "history = model.fit(\n",
        "      train_generator,\n",
        "      steps_per_epoch=25,  # berapa batch yang akan dieksekusi pada setiap epoch\n",
        "      epochs=25, # tambahkan eposchs jika akurasi model belum optimal\n",
        "      validation_data=validation_generator, # menampilkan akurasi pengujian data validasi\n",
        "      validation_steps=10  # berapa batch yang akan dieksekusi pada setiap epoch\n",
        "      )"
      ],
      "execution_count": 43,
      "outputs": [
        {
          "output_type": "stream",
          "text": [
            "Epoch 1/25\n",
            "25/25 [==============================] - 13s 485ms/step - loss: 1.1258 - accuracy: 0.3300 - val_loss: 1.0996 - val_accuracy: 0.2750\n",
            "Epoch 2/25\n",
            "25/25 [==============================] - 12s 471ms/step - loss: 1.0990 - accuracy: 0.3900 - val_loss: 1.0887 - val_accuracy: 0.4000\n",
            "Epoch 3/25\n",
            "25/25 [==============================] - 12s 474ms/step - loss: 1.1029 - accuracy: 0.3700 - val_loss: 1.0909 - val_accuracy: 0.5000\n",
            "Epoch 4/25\n",
            "25/25 [==============================] - 12s 474ms/step - loss: 1.0852 - accuracy: 0.5000 - val_loss: 1.0763 - val_accuracy: 0.3500\n",
            "Epoch 5/25\n",
            "25/25 [==============================] - 12s 475ms/step - loss: 1.0464 - accuracy: 0.4700 - val_loss: 0.9575 - val_accuracy: 0.4500\n",
            "Epoch 6/25\n",
            "25/25 [==============================] - 12s 474ms/step - loss: 0.7079 - accuracy: 0.7500 - val_loss: 0.8464 - val_accuracy: 0.6000\n",
            "Epoch 7/25\n",
            "25/25 [==============================] - 12s 472ms/step - loss: 0.6066 - accuracy: 0.7600 - val_loss: 0.5113 - val_accuracy: 0.7750\n",
            "Epoch 8/25\n",
            "25/25 [==============================] - 12s 476ms/step - loss: 0.3197 - accuracy: 0.8700 - val_loss: 0.3467 - val_accuracy: 0.8750\n",
            "Epoch 9/25\n",
            "25/25 [==============================] - 12s 472ms/step - loss: 0.3493 - accuracy: 0.8700 - val_loss: 0.2771 - val_accuracy: 0.8750\n",
            "Epoch 10/25\n",
            "25/25 [==============================] - 12s 474ms/step - loss: 0.2937 - accuracy: 0.8900 - val_loss: 0.7779 - val_accuracy: 0.7250\n",
            "Epoch 11/25\n",
            "25/25 [==============================] - 12s 474ms/step - loss: 0.4466 - accuracy: 0.8300 - val_loss: 0.3102 - val_accuracy: 0.8500\n",
            "Epoch 12/25\n",
            "25/25 [==============================] - 12s 472ms/step - loss: 0.3840 - accuracy: 0.8500 - val_loss: 0.5021 - val_accuracy: 0.8500\n",
            "Epoch 13/25\n",
            "25/25 [==============================] - 12s 474ms/step - loss: 0.3714 - accuracy: 0.8700 - val_loss: 0.2957 - val_accuracy: 0.9250\n",
            "Epoch 14/25\n",
            "25/25 [==============================] - 12s 474ms/step - loss: 0.2948 - accuracy: 0.9300 - val_loss: 0.2862 - val_accuracy: 0.8750\n",
            "Epoch 15/25\n",
            "25/25 [==============================] - 12s 472ms/step - loss: 0.3288 - accuracy: 0.8900 - val_loss: 0.3300 - val_accuracy: 0.8750\n",
            "Epoch 16/25\n",
            "25/25 [==============================] - 12s 473ms/step - loss: 0.3053 - accuracy: 0.8700 - val_loss: 0.4337 - val_accuracy: 0.8500\n",
            "Epoch 17/25\n",
            "25/25 [==============================] - 12s 472ms/step - loss: 0.3035 - accuracy: 0.8600 - val_loss: 0.5190 - val_accuracy: 0.7500\n",
            "Epoch 18/25\n",
            "25/25 [==============================] - 12s 470ms/step - loss: 0.3625 - accuracy: 0.8800 - val_loss: 0.2620 - val_accuracy: 0.8500\n",
            "Epoch 19/25\n",
            "25/25 [==============================] - 12s 475ms/step - loss: 0.2358 - accuracy: 0.9200 - val_loss: 0.2453 - val_accuracy: 0.9000\n",
            "Epoch 20/25\n",
            "25/25 [==============================] - 12s 476ms/step - loss: 0.2444 - accuracy: 0.9200 - val_loss: 0.2387 - val_accuracy: 0.9000\n",
            "Epoch 21/25\n",
            "25/25 [==============================] - 12s 471ms/step - loss: 0.2792 - accuracy: 0.9200 - val_loss: 0.4314 - val_accuracy: 0.9000\n",
            "Epoch 22/25\n",
            "25/25 [==============================] - 12s 473ms/step - loss: 0.1464 - accuracy: 0.9400 - val_loss: 0.1707 - val_accuracy: 0.9500\n",
            "Epoch 23/25\n",
            "25/25 [==============================] - 12s 472ms/step - loss: 0.3012 - accuracy: 0.9100 - val_loss: 0.2156 - val_accuracy: 0.9250\n",
            "Epoch 24/25\n",
            "25/25 [==============================] - 12s 469ms/step - loss: 0.3547 - accuracy: 0.8700 - val_loss: 0.2401 - val_accuracy: 0.9250\n",
            "Epoch 25/25\n",
            "25/25 [==============================] - 12s 471ms/step - loss: 0.1677 - accuracy: 0.9500 - val_loss: 0.4195 - val_accuracy: 0.8500\n"
          ],
          "name": "stdout"
        }
      ]
    },
    {
      "cell_type": "code",
      "metadata": {
        "colab": {
          "base_uri": "https://localhost:8080/",
          "height": 295
        },
        "id": "b6ly-RHFylYB",
        "outputId": "f67192d2-71e7-4180-830c-4942e7f446a6"
      },
      "source": [
        "import matplotlib.pyplot as plt\n",
        "\n",
        "plt.plot(history.history['accuracy'])\n",
        "plt.plot(history.history['val_accuracy'])\n",
        "plt.title('model accuracy')\n",
        "plt.ylabel('accuracy')\n",
        "plt.xlabel('epoch')\n",
        "plt.legend(['train', 'test'], loc='upper left')\n",
        "plt.show()"
      ],
      "execution_count": 44,
      "outputs": [
        {
          "output_type": "display_data",
          "data": {
            "image/png": "[encoded data removed]",
            "text/plain": [
              "<Figure size 432x288 with 1 Axes>"
            ]
          },
          "metadata": {
            "tags": [],
            "needs_background": "light"
          }
        }
      ]
    },
    {
      "cell_type": "code",
      "metadata": {
        "colab": {
          "base_uri": "https://localhost:8080/",
          "height": 295
        },
        "id": "oCAK7sb9ytdC",
        "outputId": "7aa3aaba-4382-4f24-9021-956ce93f2133"
      },
      "source": [
        "plt.plot(history.history['loss'])\n",
        "plt.plot(history.history['val_loss'])\n",
        "plt.title('model loss')\n",
        "plt.ylabel('loss')\n",
        "plt.xlabel('epoch')\n",
        "plt.legend(['train', 'test'], loc='upper left')\n",
        "plt.show()"
      ],
      "execution_count": 45,
      "outputs": [
        {
          "output_type": "display_data",
          "data": {
            "image/png": "[encoded data removed]",
            "text/plain": [
              "<Figure size 432x288 with 1 Axes>"
            ]
          },
          "metadata": {
            "tags": [],
            "needs_background": "light"
          }
        }
      ]
    },
    {
      "cell_type": "code",
      "metadata": {
        "colab": {
          "resources": {
            "http://localhost:8080/nbextensions/google.colab/files.js": {
              "data": "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",
              "ok": true,
              "headers": [
                [
                  "content-type",
                  "application/javascript"
                ]
              ],
              "status": 200,
              "status_text": ""
            }
          },
          "base_uri": "https://localhost:8080/",
          "height": 343
        },
        "id": "kMEhLXulGUUc",
        "outputId": "3a2d2a28-d672-46ca-f47b-3cd12c49711c"
      },
      "source": [
        "# melihat hasil dari model yang telah\n",
        "import numpy as np\n",
        "from google.colab import files\n",
        "from keras.preprocessing import image\n",
        "import matplotlib.pyplot as plt\n",
        "import matplotlib.image as mpimg\n",
        "%matplotlib inline\n",
        " \n",
        "uploaded = files.upload()\n",
        " \n",
        "for fn in uploaded.keys():\n",
        " \n",
        "  # predicting images\n",
        "  path = fn\n",
        "  img = image.load_img(path, target_size=(150,150))\n",
        "  imgplot = plt.imshow(img)\n",
        "  x = image.img_to_array(img)\n",
        "  x = np.expand_dims(x, axis=0)\n",
        " \n",
        "  images = np.vstack([x])\n",
        "  classes = model.predict(images, batch_size=10)\n",
        "  \n",
        "  if classes.sum()==1.0:\n",
        "    print('paper')\n",
        "  elif classes.sum()>=2:\n",
        "    print('rock')\n",
        "  else:\n",
        "    print('scissors')"
      ],
      "execution_count": 46,
      "outputs": [
        {
          "output_type": "display_data",
          "data": {
            "text/html": [
              "\n",
              "     <input type=\"file\" id=\"files-d2bc51f6-443d-409b-abb1-e4cab5acf42d\" name=\"files[]\" multiple disabled\n",
              "        style=\"border:none\" />\n",
              "     <output id=\"result-d2bc51f6-443d-409b-abb1-e4cab5acf42d\">\n",
              "      Upload widget is only available when the cell has been executed in the\n",
              "      current browser session. Please rerun this cell to enable.\n",
              "      </output>\n",
              "      <script src=\"/nbextensions/google.colab/files.js\"></script> "
            ],
            "text/plain": [
              "<IPython.core.display.HTML object>"
            ]
          },
          "metadata": {
            "tags": []
          }
        },
        {
          "output_type": "stream",
          "text": [
            "Saving kertas.jpg to kertas.jpg\n",
            "paper\n"
          ],
          "name": "stdout"
        },
        {
          "output_type": "display_data",
          "data": {
            "image/png": "[encoded data removed]",
            "text/plain": [
              "<Figure size 432x288 with 1 Axes>"
            ]
          },
          "metadata": {
            "tags": [],
            "needs_background": "light"
          }
        }
      ]
    },
    {
      "cell_type": "code",
      "metadata": {
        "id": "7URQKOz8G5iI"
      },
      "source": [
        ""
      ],
      "execution_count": 46,
      "outputs": []
    }
  ]
}